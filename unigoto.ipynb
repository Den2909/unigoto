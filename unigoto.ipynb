{
  "nbformat": 4,
  "nbformat_minor": 0,
  "metadata": {
    "colab": {
      "provenance": [],
      "gpuType": "T4"
    },
    "kernelspec": {
      "name": "python3",
      "display_name": "Python 3"
    },
    "language_info": {
      "name": "python"
    }
  },
  "cells": [
    {
      "cell_type": "code",
      "source": [
        "# !pip install gdown\n",
        "# !pip install emoji"
      ],
      "metadata": {
        "id": "etMh9MzqrLut"
      },
      "execution_count": 20,
      "outputs": []
    },
    {
      "cell_type": "code",
      "source": [
        "# !pip install sentencepiece"
      ],
      "metadata": {
        "id": "1p9X1UsYzJrF"
      },
      "execution_count": 21,
      "outputs": []
    },
    {
      "cell_type": "code",
      "source": [
        "import csv\n",
        "from google.colab import files\n",
        "from google.colab import drive\n",
        "import pandas as pd\n",
        "import re\n",
        "import unicodedata"
      ],
      "metadata": {
        "id": "-bMI9YaRrHdj"
      },
      "execution_count": 22,
      "outputs": []
    },
    {
      "cell_type": "code",
      "execution_count": 23,
      "metadata": {
        "colab": {
          "base_uri": "https://localhost:8080/"
        },
        "id": "ZC3-qWqDyIGE",
        "outputId": "4cd938d0-f5b2-4e45-e0c7-1b7eadd59d12"
      },
      "outputs": [
        {
          "output_type": "stream",
          "name": "stdout",
          "text": [
            "Drive already mounted at /content/drive; to attempt to forcibly remount, call drive.mount(\"/content/drive\", force_remount=True).\n"
          ]
        }
      ],
      "source": [
        "drive.mount('/content/drive')"
      ]
    },
    {
      "cell_type": "code",
      "execution_count": 24,
      "metadata": {
        "id": "d0W0TIvhwDe0"
      },
      "outputs": [],
      "source": [
        "path='/content/drive/MyDrive/Unigoto/merged_data.csv'\n"
      ]
    },
    {
      "cell_type": "code",
      "source": [
        "merged_df = pd.read_csv(path, low_memory=False)"
      ],
      "metadata": {
        "id": "sQdv8D2oqELD"
      },
      "execution_count": 25,
      "outputs": []
    },
    {
      "cell_type": "code",
      "source": [
        "df = merged_df.copy()"
      ],
      "metadata": {
        "id": "F4hOHP65qEDU"
      },
      "execution_count": 26,
      "outputs": []
    },
    {
      "cell_type": "code",
      "source": [
        "# удаляем колонку \"deactivated\"\n",
        "df = df.drop(columns=['deactivated'], errors='ignore')"
      ],
      "metadata": {
        "id": "gmttzyew6xOj"
      },
      "execution_count": 27,
      "outputs": []
    },
    {
      "cell_type": "code",
      "source": [
        "filtered_data = df[df['country_title'].isin(['Россия'])]"
      ],
      "metadata": {
        "id": "f044lqqk9RwI"
      },
      "execution_count": 28,
      "outputs": []
    },
    {
      "cell_type": "code",
      "source": [
        "# # определяем паттерн для поиска русских городов\n",
        "# pattern = re.compile(r'[^a-zA-Z0-9\\s]')\n",
        "# filtered_data = filtered_data[filtered_data['city_title'].str.contains(pattern, na=True)]"
      ],
      "metadata": {
        "id": "U4cjENpV8K2x"
      },
      "execution_count": 29,
      "outputs": []
    },
    {
      "cell_type": "code",
      "source": [
        "# удаление строк, где пропущено больше двух значений из столбцов\n",
        "columns_to_check = ['about', 'activities', 'books', 'games', 'interests']\n",
        "filtered_data = filtered_data.dropna(subset=columns_to_check, thresh=len(columns_to_check)-2)\n",
        "# удаление строк, где пропущена основная целевая метка\n",
        "filtered_data = filtered_data.dropna(subset=['university_name'])"
      ],
      "metadata": {
        "id": "0hP66V4B_nzt"
      },
      "execution_count": 30,
      "outputs": []
    },
    {
      "cell_type": "code",
      "source": [
        "# заполнение пропущенных значений mode() или Unknown, используя группировку\n",
        "filtered_data['faculty_name'] = filtered_data.groupby(['university_name', 'faculty'])['faculty_name'].transform(lambda x: x.fillna(x.mode().iloc[0] if not x.mode().empty else 'Unknown'))"
      ],
      "metadata": {
        "id": "pEcBquyQEqNP"
      },
      "execution_count": 31,
      "outputs": []
    },
    {
      "cell_type": "code",
      "source": [
        "columns_to_drop = ['graduation', 'country_id', 'country_title', 'city_id', 'university', \"faculty\", \"city_title\"]\n",
        "filtered_data = filtered_data.drop(columns=columns_to_drop, errors='ignore', axis=1)"
      ],
      "metadata": {
        "id": "hXQMsJKgv0FB"
      },
      "execution_count": 49,
      "outputs": []
    },
    {
      "cell_type": "code",
      "source": [
        "# удаление дубликатов\n",
        "initial_rows = len(filtered_data)\n",
        "filtered_data = filtered_data.drop_duplicates()\n",
        "removed_rows = initial_rows - len(filtered_data)\n",
        "print(f\"Количество удаленных дубликатов: {removed_rows}\")"
      ],
      "metadata": {
        "colab": {
          "base_uri": "https://localhost:8080/"
        },
        "id": "ArpV6QP3w-VE",
        "outputId": "feac4ca7-fa2d-49ac-a0d7-7a7a9f5a0797"
      },
      "execution_count": 33,
      "outputs": [
        {
          "output_type": "stream",
          "name": "stdout",
          "text": [
            "Количество удаленных дубликатов: 8\n"
          ]
        }
      ]
    },
    {
      "cell_type": "code",
      "source": [
        "columns_to_fill_zero = ['education_form', 'education_status']\n",
        "filtered_data.loc[:, columns_to_fill_zero] = filtered_data[columns_to_fill_zero].fillna(\"Unknown\")"
      ],
      "metadata": {
        "id": "skL-ryBaxk2W"
      },
      "execution_count": 34,
      "outputs": []
    },
    {
      "cell_type": "code",
      "source": [
        "filtered_data = filtered_data.astype(str)\n",
        "def clean_text(text):\n",
        "    # if not isinstance(text, (str, bytes)):\n",
        "    #     return str(text)\n",
        "\n",
        "    text = re.sub(r'http\\S+|www\\S+', '', text, flags=re.MULTILINE)\n",
        "    text = re.sub(r'[\\n*#%\\r!?)()\".,-:=+]', '', text)\n",
        "    text = ''.join(char for char in text if unicodedata.category(char) != 'So')\n",
        "    return text\n",
        "\n",
        "text_columns = filtered_data.select_dtypes(include='object').columns\n",
        "\n",
        "filtered_data[text_columns] = filtered_data[text_columns].applymap(clean_text)\n",
        "\n",
        "filtered_data = filtered_data.applymap(clean_text)"
      ],
      "metadata": {
        "id": "8vPJX1RZ3MUq"
      },
      "execution_count": 35,
      "outputs": []
    },
    {
      "cell_type": "code",
      "source": [
        "columns_to_replace = ['about', 'activities', 'books', 'games', \"interests\"]\n",
        "filtered_data[columns_to_replace] = filtered_data[columns_to_replace].applymap(\n",
        "    lambda x: 'нет' if (isinstance(x, str) and len(x) < 3) else x\n",
        ")\n",
        "filtered_data[columns_to_replace] = filtered_data[columns_to_replace].applymap(lambda x: x.lower() if isinstance(x, str) else x)\n",
        "values_to_replace = [0, '', ' ', \"0\", \"-\", \"nan\"]\n",
        "filtered_data[columns_to_replace] = filtered_data[columns_to_replace].replace(values_to_replace, \"нет\")"
      ],
      "metadata": {
        "id": "uNreU-1rCyfK"
      },
      "execution_count": 37,
      "outputs": []
    },
    {
      "cell_type": "code",
      "source": [
        "filtered_data.to_csv(\"filtered_data.csv\", index=False)"
      ],
      "metadata": {
        "id": "sPLGF3EI69iP"
      },
      "execution_count": 51,
      "outputs": []
    },
    {
      "cell_type": "code",
      "source": [
        "filtered_data"
      ],
      "metadata": {
        "colab": {
          "base_uri": "https://localhost:8080/",
          "height": 545
        },
        "id": "n8n5tfry7QaQ",
        "outputId": "728b7943-de07-4e01-b302-53c4b904f5ca"
      },
      "execution_count": 50,
      "outputs": [
        {
          "output_type": "execute_result",
          "data": {
            "text/plain": [
              "                                                     about  \\\n",
              "9                                                мама люба   \n",
              "43                                                     нет   \n",
              "52                       хотите в болото спросите меня как   \n",
              "70       спасибо тем кто меня любит  вы делаете меня лу...   \n",
              "87       целеустремленный человек меняю мир к лучшему ч...   \n",
              "...                                                    ...   \n",
              "4193113                                                нет   \n",
              "4198479                                  я хорошего мнения   \n",
              "4202832  не бей своих чтобы боялись чужие лучше бей себ...   \n",
              "4207485   чтобы сделать заказ нужно оставить свой комме...   \n",
              "4208359                          ребята лучше вам не знать   \n",
              "\n",
              "                                                activities  \\\n",
              "9                             несу людям счастье и калории   \n",
              "43       ja spb  завсектором экономического моделирован...   \n",
              "52                          аспирант лаборантисследователь   \n",
              "70             sales deadline организация промомероприятий   \n",
              "87       исследователь разработчик и популяризатор техн...   \n",
              "...                                                    ...   \n",
              "4193113                                                нет   \n",
              "4198479                                         культурная   \n",
              "4202832  прыгаю и трясу конечностями типо лиза превокур...   \n",
              "4207485  хотите покупать стильные вещи дешевле чем в ма...   \n",
              "4208359                                           фотограф   \n",
              "\n",
              "                                                     books  \\\n",
              "9                                 акунин бунин достоевский   \n",
              "43                                                     ммм   \n",
              "52                                               кизи весь   \n",
              "70       гришковец  в остальном только периодика и проф...   \n",
              "87                                      мастер и маргарита   \n",
              "...                                                    ...   \n",
              "4193113  атлант расправил плечи финансист алхимик чайка...   \n",
              "4198479                                                нет   \n",
              "4202832                             лошадиная энциклопедия   \n",
              "4207485                                                нет   \n",
              "4208359                                                нет   \n",
              "\n",
              "                                                     games  \\\n",
              "9                                                догонялки   \n",
              "43       freebsd linux apache mysql php perl html ssi w...   \n",
              "52                                       nfs дальнобойщики   \n",
              "70       deadline куб рубика кубик рубик кубик рубика p...   \n",
              "87                                 шахматы мэком dead line   \n",
              "...                                                    ...   \n",
              "4193113                                          монополия   \n",
              "4198479                                                нет   \n",
              "4202832                                    durka simulator   \n",
              "4207485                                                нет   \n",
              "4208359                                                нет   \n",
              "\n",
              "                                                 interests     education_form  \\\n",
              "9                                  шоппинг даник кулинария    Очное отделение   \n",
              "43       web design web usability seo optimization inst...    Очное отделение   \n",
              "52       у много всякого вернее все подряд но в особенн...    Очное отделение   \n",
              "70                   bmw honda management reading sleeping    Очное отделение   \n",
              "87       образование саморазвитие спорт достижения наук...    Очное отделение   \n",
              "...                                                    ...                ...   \n",
              "4193113  самообразование книги инвестиции как стать сча...  Заочное отделение   \n",
              "4198479                                      разносторнние    Очное отделение   \n",
              "4202832                               я комар ты фумигатор            Unknown   \n",
              "4207485  заказать понравившуюся вещь очень просто для э...    Очное отделение   \n",
              "4208359                                          кулинария            Unknown   \n",
              "\n",
              "              education_status                    university_name  \\\n",
              "9           Студентка бакалавр                              СПбГУ   \n",
              "43          Выпускник бакалавр            НИУ ВШЭ  СанктПетербург   \n",
              "52           Выпускник магистр       СПбПУ Петра Великого Политех   \n",
              "70          Студент специалист            НИУ ВШЭ  СанктПетербург   \n",
              "87          Выпускник бакалавр                РГПУ им А И Герцена   \n",
              "...                        ...                                ...   \n",
              "4193113     Выпускник бакалавр  МФПУ «Синергия» бывш МФПА ММИЭИФП   \n",
              "4198479                Unknown             СПб НИПНИ им Бехтерева   \n",
              "4202832                Unknown                АлтГТУ им Ползунова   \n",
              "4207485  Выпускница специалист       ЮУрГАУ бывш ЧИМЭСХ ЧГАА ЧГАУ   \n",
              "4208359                Unknown                          ДонНУ до    \n",
              "\n",
              "                                              faculty_name  \n",
              "9                                  Международных отношений  \n",
              "43                                               Экономики  \n",
              "52       Институт физики нанотехнологий и телекоммуникаций  \n",
              "70                                             Менеджмента  \n",
              "87                                    Факультет математики  \n",
              "...                                                    ...  \n",
              "4193113                               Факультет психологии  \n",
              "4198479                                            Unknown  \n",
              "4202832                                            Unknown  \n",
              "4207485  Факультет технического сервиса в агропромышлен...  \n",
              "4208359                                            Unknown  \n",
              "\n",
              "[33759 rows x 9 columns]"
            ],
            "text/html": [
              "\n",
              "  <div id=\"df-00320764-1619-44d5-a1ba-a679e4df4b87\" class=\"colab-df-container\">\n",
              "    <div>\n",
              "<style scoped>\n",
              "    .dataframe tbody tr th:only-of-type {\n",
              "        vertical-align: middle;\n",
              "    }\n",
              "\n",
              "    .dataframe tbody tr th {\n",
              "        vertical-align: top;\n",
              "    }\n",
              "\n",
              "    .dataframe thead th {\n",
              "        text-align: right;\n",
              "    }\n",
              "</style>\n",
              "<table border=\"1\" class=\"dataframe\">\n",
              "  <thead>\n",
              "    <tr style=\"text-align: right;\">\n",
              "      <th></th>\n",
              "      <th>about</th>\n",
              "      <th>activities</th>\n",
              "      <th>books</th>\n",
              "      <th>games</th>\n",
              "      <th>interests</th>\n",
              "      <th>education_form</th>\n",
              "      <th>education_status</th>\n",
              "      <th>university_name</th>\n",
              "      <th>faculty_name</th>\n",
              "    </tr>\n",
              "  </thead>\n",
              "  <tbody>\n",
              "    <tr>\n",
              "      <th>9</th>\n",
              "      <td>мама люба</td>\n",
              "      <td>несу людям счастье и калории</td>\n",
              "      <td>акунин бунин достоевский</td>\n",
              "      <td>догонялки</td>\n",
              "      <td>шоппинг даник кулинария</td>\n",
              "      <td>Очное отделение</td>\n",
              "      <td>Студентка бакалавр</td>\n",
              "      <td>СПбГУ</td>\n",
              "      <td>Международных отношений</td>\n",
              "    </tr>\n",
              "    <tr>\n",
              "      <th>43</th>\n",
              "      <td>нет</td>\n",
              "      <td>ja spb  завсектором экономического моделирован...</td>\n",
              "      <td>ммм</td>\n",
              "      <td>freebsd linux apache mysql php perl html ssi w...</td>\n",
              "      <td>web design web usability seo optimization inst...</td>\n",
              "      <td>Очное отделение</td>\n",
              "      <td>Выпускник бакалавр</td>\n",
              "      <td>НИУ ВШЭ  СанктПетербург</td>\n",
              "      <td>Экономики</td>\n",
              "    </tr>\n",
              "    <tr>\n",
              "      <th>52</th>\n",
              "      <td>хотите в болото спросите меня как</td>\n",
              "      <td>аспирант лаборантисследователь</td>\n",
              "      <td>кизи весь</td>\n",
              "      <td>nfs дальнобойщики</td>\n",
              "      <td>у много всякого вернее все подряд но в особенн...</td>\n",
              "      <td>Очное отделение</td>\n",
              "      <td>Выпускник магистр</td>\n",
              "      <td>СПбПУ Петра Великого Политех</td>\n",
              "      <td>Институт физики нанотехнологий и телекоммуникаций</td>\n",
              "    </tr>\n",
              "    <tr>\n",
              "      <th>70</th>\n",
              "      <td>спасибо тем кто меня любит  вы делаете меня лу...</td>\n",
              "      <td>sales deadline организация промомероприятий</td>\n",
              "      <td>гришковец  в остальном только периодика и проф...</td>\n",
              "      <td>deadline куб рубика кубик рубик кубик рубика p...</td>\n",
              "      <td>bmw honda management reading sleeping</td>\n",
              "      <td>Очное отделение</td>\n",
              "      <td>Студент специалист</td>\n",
              "      <td>НИУ ВШЭ  СанктПетербург</td>\n",
              "      <td>Менеджмента</td>\n",
              "    </tr>\n",
              "    <tr>\n",
              "      <th>87</th>\n",
              "      <td>целеустремленный человек меняю мир к лучшему ч...</td>\n",
              "      <td>исследователь разработчик и популяризатор техн...</td>\n",
              "      <td>мастер и маргарита</td>\n",
              "      <td>шахматы мэком dead line</td>\n",
              "      <td>образование саморазвитие спорт достижения наук...</td>\n",
              "      <td>Очное отделение</td>\n",
              "      <td>Выпускник бакалавр</td>\n",
              "      <td>РГПУ им А И Герцена</td>\n",
              "      <td>Факультет математики</td>\n",
              "    </tr>\n",
              "    <tr>\n",
              "      <th>...</th>\n",
              "      <td>...</td>\n",
              "      <td>...</td>\n",
              "      <td>...</td>\n",
              "      <td>...</td>\n",
              "      <td>...</td>\n",
              "      <td>...</td>\n",
              "      <td>...</td>\n",
              "      <td>...</td>\n",
              "      <td>...</td>\n",
              "    </tr>\n",
              "    <tr>\n",
              "      <th>4193113</th>\n",
              "      <td>нет</td>\n",
              "      <td>нет</td>\n",
              "      <td>атлант расправил плечи финансист алхимик чайка...</td>\n",
              "      <td>монополия</td>\n",
              "      <td>самообразование книги инвестиции как стать сча...</td>\n",
              "      <td>Заочное отделение</td>\n",
              "      <td>Выпускник бакалавр</td>\n",
              "      <td>МФПУ «Синергия» бывш МФПА ММИЭИФП</td>\n",
              "      <td>Факультет психологии</td>\n",
              "    </tr>\n",
              "    <tr>\n",
              "      <th>4198479</th>\n",
              "      <td>я хорошего мнения</td>\n",
              "      <td>культурная</td>\n",
              "      <td>нет</td>\n",
              "      <td>нет</td>\n",
              "      <td>разносторнние</td>\n",
              "      <td>Очное отделение</td>\n",
              "      <td>Unknown</td>\n",
              "      <td>СПб НИПНИ им Бехтерева</td>\n",
              "      <td>Unknown</td>\n",
              "    </tr>\n",
              "    <tr>\n",
              "      <th>4202832</th>\n",
              "      <td>не бей своих чтобы боялись чужие лучше бей себ...</td>\n",
              "      <td>прыгаю и трясу конечностями типо лиза превокур...</td>\n",
              "      <td>лошадиная энциклопедия</td>\n",
              "      <td>durka simulator</td>\n",
              "      <td>я комар ты фумигатор</td>\n",
              "      <td>Unknown</td>\n",
              "      <td>Unknown</td>\n",
              "      <td>АлтГТУ им Ползунова</td>\n",
              "      <td>Unknown</td>\n",
              "    </tr>\n",
              "    <tr>\n",
              "      <th>4207485</th>\n",
              "      <td>чтобы сделать заказ нужно оставить свой комме...</td>\n",
              "      <td>хотите покупать стильные вещи дешевле чем в ма...</td>\n",
              "      <td>нет</td>\n",
              "      <td>нет</td>\n",
              "      <td>заказать понравившуюся вещь очень просто для э...</td>\n",
              "      <td>Очное отделение</td>\n",
              "      <td>Выпускница специалист</td>\n",
              "      <td>ЮУрГАУ бывш ЧИМЭСХ ЧГАА ЧГАУ</td>\n",
              "      <td>Факультет технического сервиса в агропромышлен...</td>\n",
              "    </tr>\n",
              "    <tr>\n",
              "      <th>4208359</th>\n",
              "      <td>ребята лучше вам не знать</td>\n",
              "      <td>фотограф</td>\n",
              "      <td>нет</td>\n",
              "      <td>нет</td>\n",
              "      <td>кулинария</td>\n",
              "      <td>Unknown</td>\n",
              "      <td>Unknown</td>\n",
              "      <td>ДонНУ до</td>\n",
              "      <td>Unknown</td>\n",
              "    </tr>\n",
              "  </tbody>\n",
              "</table>\n",
              "<p>33759 rows × 9 columns</p>\n",
              "</div>\n",
              "    <div class=\"colab-df-buttons\">\n",
              "\n",
              "  <div class=\"colab-df-container\">\n",
              "    <button class=\"colab-df-convert\" onclick=\"convertToInteractive('df-00320764-1619-44d5-a1ba-a679e4df4b87')\"\n",
              "            title=\"Convert this dataframe to an interactive table.\"\n",
              "            style=\"display:none;\">\n",
              "\n",
              "  <svg xmlns=\"http://www.w3.org/2000/svg\" height=\"24px\" viewBox=\"0 -960 960 960\">\n",
              "    <path d=\"M120-120v-720h720v720H120Zm60-500h600v-160H180v160Zm220 220h160v-160H400v160Zm0 220h160v-160H400v160ZM180-400h160v-160H180v160Zm440 0h160v-160H620v160ZM180-180h160v-160H180v160Zm440 0h160v-160H620v160Z\"/>\n",
              "  </svg>\n",
              "    </button>\n",
              "\n",
              "  <style>\n",
              "    .colab-df-container {\n",
              "      display:flex;\n",
              "      gap: 12px;\n",
              "    }\n",
              "\n",
              "    .colab-df-convert {\n",
              "      background-color: #E8F0FE;\n",
              "      border: none;\n",
              "      border-radius: 50%;\n",
              "      cursor: pointer;\n",
              "      display: none;\n",
              "      fill: #1967D2;\n",
              "      height: 32px;\n",
              "      padding: 0 0 0 0;\n",
              "      width: 32px;\n",
              "    }\n",
              "\n",
              "    .colab-df-convert:hover {\n",
              "      background-color: #E2EBFA;\n",
              "      box-shadow: 0px 1px 2px rgba(60, 64, 67, 0.3), 0px 1px 3px 1px rgba(60, 64, 67, 0.15);\n",
              "      fill: #174EA6;\n",
              "    }\n",
              "\n",
              "    .colab-df-buttons div {\n",
              "      margin-bottom: 4px;\n",
              "    }\n",
              "\n",
              "    [theme=dark] .colab-df-convert {\n",
              "      background-color: #3B4455;\n",
              "      fill: #D2E3FC;\n",
              "    }\n",
              "\n",
              "    [theme=dark] .colab-df-convert:hover {\n",
              "      background-color: #434B5C;\n",
              "      box-shadow: 0px 1px 3px 1px rgba(0, 0, 0, 0.15);\n",
              "      filter: drop-shadow(0px 1px 2px rgba(0, 0, 0, 0.3));\n",
              "      fill: #FFFFFF;\n",
              "    }\n",
              "  </style>\n",
              "\n",
              "    <script>\n",
              "      const buttonEl =\n",
              "        document.querySelector('#df-00320764-1619-44d5-a1ba-a679e4df4b87 button.colab-df-convert');\n",
              "      buttonEl.style.display =\n",
              "        google.colab.kernel.accessAllowed ? 'block' : 'none';\n",
              "\n",
              "      async function convertToInteractive(key) {\n",
              "        const element = document.querySelector('#df-00320764-1619-44d5-a1ba-a679e4df4b87');\n",
              "        const dataTable =\n",
              "          await google.colab.kernel.invokeFunction('convertToInteractive',\n",
              "                                                    [key], {});\n",
              "        if (!dataTable) return;\n",
              "\n",
              "        const docLinkHtml = 'Like what you see? Visit the ' +\n",
              "          '<a target=\"_blank\" href=https://colab.research.google.com/notebooks/data_table.ipynb>data table notebook</a>'\n",
              "          + ' to learn more about interactive tables.';\n",
              "        element.innerHTML = '';\n",
              "        dataTable['output_type'] = 'display_data';\n",
              "        await google.colab.output.renderOutput(dataTable, element);\n",
              "        const docLink = document.createElement('div');\n",
              "        docLink.innerHTML = docLinkHtml;\n",
              "        element.appendChild(docLink);\n",
              "      }\n",
              "    </script>\n",
              "  </div>\n",
              "\n",
              "\n",
              "<div id=\"df-5786eeee-52f3-4ff2-951e-212424ff9d7c\">\n",
              "  <button class=\"colab-df-quickchart\" onclick=\"quickchart('df-5786eeee-52f3-4ff2-951e-212424ff9d7c')\"\n",
              "            title=\"Suggest charts\"\n",
              "            style=\"display:none;\">\n",
              "\n",
              "<svg xmlns=\"http://www.w3.org/2000/svg\" height=\"24px\"viewBox=\"0 0 24 24\"\n",
              "     width=\"24px\">\n",
              "    <g>\n",
              "        <path d=\"M19 3H5c-1.1 0-2 .9-2 2v14c0 1.1.9 2 2 2h14c1.1 0 2-.9 2-2V5c0-1.1-.9-2-2-2zM9 17H7v-7h2v7zm4 0h-2V7h2v10zm4 0h-2v-4h2v4z\"/>\n",
              "    </g>\n",
              "</svg>\n",
              "  </button>\n",
              "\n",
              "<style>\n",
              "  .colab-df-quickchart {\n",
              "      --bg-color: #E8F0FE;\n",
              "      --fill-color: #1967D2;\n",
              "      --hover-bg-color: #E2EBFA;\n",
              "      --hover-fill-color: #174EA6;\n",
              "      --disabled-fill-color: #AAA;\n",
              "      --disabled-bg-color: #DDD;\n",
              "  }\n",
              "\n",
              "  [theme=dark] .colab-df-quickchart {\n",
              "      --bg-color: #3B4455;\n",
              "      --fill-color: #D2E3FC;\n",
              "      --hover-bg-color: #434B5C;\n",
              "      --hover-fill-color: #FFFFFF;\n",
              "      --disabled-bg-color: #3B4455;\n",
              "      --disabled-fill-color: #666;\n",
              "  }\n",
              "\n",
              "  .colab-df-quickchart {\n",
              "    background-color: var(--bg-color);\n",
              "    border: none;\n",
              "    border-radius: 50%;\n",
              "    cursor: pointer;\n",
              "    display: none;\n",
              "    fill: var(--fill-color);\n",
              "    height: 32px;\n",
              "    padding: 0;\n",
              "    width: 32px;\n",
              "  }\n",
              "\n",
              "  .colab-df-quickchart:hover {\n",
              "    background-color: var(--hover-bg-color);\n",
              "    box-shadow: 0 1px 2px rgba(60, 64, 67, 0.3), 0 1px 3px 1px rgba(60, 64, 67, 0.15);\n",
              "    fill: var(--button-hover-fill-color);\n",
              "  }\n",
              "\n",
              "  .colab-df-quickchart-complete:disabled,\n",
              "  .colab-df-quickchart-complete:disabled:hover {\n",
              "    background-color: var(--disabled-bg-color);\n",
              "    fill: var(--disabled-fill-color);\n",
              "    box-shadow: none;\n",
              "  }\n",
              "\n",
              "  .colab-df-spinner {\n",
              "    border: 2px solid var(--fill-color);\n",
              "    border-color: transparent;\n",
              "    border-bottom-color: var(--fill-color);\n",
              "    animation:\n",
              "      spin 1s steps(1) infinite;\n",
              "  }\n",
              "\n",
              "  @keyframes spin {\n",
              "    0% {\n",
              "      border-color: transparent;\n",
              "      border-bottom-color: var(--fill-color);\n",
              "      border-left-color: var(--fill-color);\n",
              "    }\n",
              "    20% {\n",
              "      border-color: transparent;\n",
              "      border-left-color: var(--fill-color);\n",
              "      border-top-color: var(--fill-color);\n",
              "    }\n",
              "    30% {\n",
              "      border-color: transparent;\n",
              "      border-left-color: var(--fill-color);\n",
              "      border-top-color: var(--fill-color);\n",
              "      border-right-color: var(--fill-color);\n",
              "    }\n",
              "    40% {\n",
              "      border-color: transparent;\n",
              "      border-right-color: var(--fill-color);\n",
              "      border-top-color: var(--fill-color);\n",
              "    }\n",
              "    60% {\n",
              "      border-color: transparent;\n",
              "      border-right-color: var(--fill-color);\n",
              "    }\n",
              "    80% {\n",
              "      border-color: transparent;\n",
              "      border-right-color: var(--fill-color);\n",
              "      border-bottom-color: var(--fill-color);\n",
              "    }\n",
              "    90% {\n",
              "      border-color: transparent;\n",
              "      border-bottom-color: var(--fill-color);\n",
              "    }\n",
              "  }\n",
              "</style>\n",
              "\n",
              "  <script>\n",
              "    async function quickchart(key) {\n",
              "      const quickchartButtonEl =\n",
              "        document.querySelector('#' + key + ' button');\n",
              "      quickchartButtonEl.disabled = true;  // To prevent multiple clicks.\n",
              "      quickchartButtonEl.classList.add('colab-df-spinner');\n",
              "      try {\n",
              "        const charts = await google.colab.kernel.invokeFunction(\n",
              "            'suggestCharts', [key], {});\n",
              "      } catch (error) {\n",
              "        console.error('Error during call to suggestCharts:', error);\n",
              "      }\n",
              "      quickchartButtonEl.classList.remove('colab-df-spinner');\n",
              "      quickchartButtonEl.classList.add('colab-df-quickchart-complete');\n",
              "    }\n",
              "    (() => {\n",
              "      let quickchartButtonEl =\n",
              "        document.querySelector('#df-5786eeee-52f3-4ff2-951e-212424ff9d7c button');\n",
              "      quickchartButtonEl.style.display =\n",
              "        google.colab.kernel.accessAllowed ? 'block' : 'none';\n",
              "    })();\n",
              "  </script>\n",
              "</div>\n",
              "    </div>\n",
              "  </div>\n"
            ]
          },
          "metadata": {},
          "execution_count": 50
        }
      ]
    },
    {
      "cell_type": "code",
      "source": [
        "filtered_data.info()"
      ],
      "metadata": {
        "colab": {
          "base_uri": "https://localhost:8080/"
        },
        "id": "yyvatQk5Grhm",
        "outputId": "79bf21f5-1cc0-48b2-99e8-13f880fdecec"
      },
      "execution_count": 40,
      "outputs": [
        {
          "output_type": "stream",
          "name": "stdout",
          "text": [
            "<class 'pandas.core.frame.DataFrame'>\n",
            "Int64Index: 33759 entries, 9 to 4208359\n",
            "Data columns (total 10 columns):\n",
            " #   Column            Non-Null Count  Dtype \n",
            "---  ------            --------------  ----- \n",
            " 0   about             33759 non-null  object\n",
            " 1   activities        33759 non-null  object\n",
            " 2   books             33759 non-null  object\n",
            " 3   games             33759 non-null  object\n",
            " 4   interests         33759 non-null  object\n",
            " 5   education_form    33759 non-null  object\n",
            " 6   education_status  33759 non-null  object\n",
            " 7   university_name   33759 non-null  object\n",
            " 8   faculty_name      33759 non-null  object\n",
            " 9   city_title        33759 non-null  object\n",
            "dtypes: object(10)\n",
            "memory usage: 2.8+ MB\n"
          ]
        }
      ]
    },
    {
      "cell_type": "code",
      "source": [
        "#filtered_data.reset_index(drop=True, inplace=True)"
      ],
      "metadata": {
        "id": "bUD90-M3Gyr1"
      },
      "execution_count": 41,
      "outputs": []
    },
    {
      "cell_type": "markdown",
      "source": [
        "## Классификация текста (пробно)"
      ],
      "metadata": {
        "id": "zu3b8WtU3Fwc"
      }
    },
    {
      "cell_type": "code",
      "source": [
        "from transformers import pipeline"
      ],
      "metadata": {
        "id": "FBR6xqyPHe5j"
      },
      "execution_count": 42,
      "outputs": []
    },
    {
      "cell_type": "code",
      "source": [
        "zero_df = filtered_data.copy().head(10)"
      ],
      "metadata": {
        "id": "A03ttnjHB9jS"
      },
      "execution_count": 43,
      "outputs": []
    },
    {
      "cell_type": "code",
      "source": [
        "# classifier = pipeline(\"zero-shot-classification\", model=\"facebook/bart-large-mnli\")"
      ],
      "metadata": {
        "id": "Wr_aRLLYFJAW"
      },
      "execution_count": 44,
      "outputs": []
    },
    {
      "cell_type": "code",
      "source": [
        "\n",
        "# books_category = [\n",
        "#     \"Программирование\",\n",
        "#     'Художественная литература',\n",
        "#     \"Научная литература\",\n",
        "#     \"Фентези\",\n",
        "#     \"Научная Фантастика\",\n",
        "#     \"Психология\",\n",
        "#     \"Спорт\",\n",
        "#     \"Разное\"\n",
        "# ]\n",
        "\n",
        "\n",
        "# for index, row in zero_df.iterrows():\n",
        "#     sequence_to_classify = row[\"books\"]\n",
        "\n",
        "\n",
        "#     print(f\"sequence_to_classify: {sequence_to_classify}\")\n",
        "\n",
        "\n",
        "#     output = classifier(sequence_to_classify, books_category)#, multi_label=True)\n",
        "\n",
        "\n",
        "#     predicted_categories = [label for label, score in zip(output[\"labels\"], output[\"scores\"]) if score > 0.5]\n",
        "\n",
        "\n",
        "#     if len(predicted_categories) > 0:\n",
        "#         zero_df.at[index, \"books\"] = predicted_categories[0]\n",
        "#     else:\n",
        "#         zero_df.at[index, \"books\"] = None\n",
        "\n",
        "# zero_df"
      ],
      "metadata": {
        "id": "0UgB_B4ZEvoi"
      },
      "execution_count": 46,
      "outputs": []
    },
    {
      "cell_type": "code",
      "source": [
        "# classifier = pipeline(\"zero-shot-classification\", model=\"MoritzLaurer/mDeBERTa-v3-base-mnli-xnli\")"
      ],
      "metadata": {
        "id": "m1Au42dvHVSG"
      },
      "execution_count": 47,
      "outputs": []
    },
    {
      "cell_type": "code",
      "source": [
        "# books_category = [\n",
        "#     \"Программирование\",\n",
        "#     'Художественная литература',\n",
        "#     \"Научная литература\",\n",
        "#     \"Фентези\",\n",
        "#     \"Научная Фантастика\",\n",
        "#     \"Психология\",\n",
        "#     \"Спорт\",\n",
        "#     \"Разное\"\n",
        "# ]\n",
        "\n",
        "\n",
        "# for index, row in zero_df.iterrows():\n",
        "#     sequence_to_classify = row[\"books\"]\n",
        "\n",
        "\n",
        "#     output = classifier(sequence_to_classify, books_category, multi_label=True)\n",
        "\n",
        "\n",
        "#     predicted_categories = [label for label, score in zip(output[\"labels\"], output[\"scores\"]) if score > 0.5]\n",
        "\n",
        "\n",
        "#     if len(predicted_categories) > 0:\n",
        "#         zero_df.at[index, \"books\"] = predicted_categories[0]\n",
        "#     else:\n",
        "#         zero_df.at[index, \"books\"] = \"Разное\"\n",
        "\n",
        "# zero_df"
      ],
      "metadata": {
        "id": "19sUP3onLf2n"
      },
      "execution_count": 48,
      "outputs": []
    }
  ]
}